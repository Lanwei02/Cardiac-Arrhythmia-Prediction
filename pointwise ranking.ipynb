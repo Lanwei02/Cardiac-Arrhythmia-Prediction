{
 "cells": [
  {
   "cell_type": "code",
   "execution_count": 402,
   "metadata": {
    "collapsed": true
   },
   "outputs": [],
   "source": [
    "#Retrieving basic packages\n",
    "import pandas as pd\n",
    "import numpy as np\n",
    "import matplotlib.pyplot as plt\n",
    "import seaborn as sns\n",
    "import missingno as msn\n",
    "\n",
    "import warnings\n",
    "warnings.filterwarnings(\"ignore\")\n",
    "\n",
    "%matplotlib inline\n",
    "#From skleanr preprocessing\n",
    "from sklearn.preprocessing import MinMaxScaler\n",
    "\n",
    "#For modelling\n",
    "from sklearn.neighbors import KNeighborsClassifier\n",
    "from sklearn.tree import DecisionTreeClassifier\n",
    "from sklearn.linear_model import LogisticRegression\n",
    "from sklearn.ensemble import RandomForestClassifier\n",
    "#For model selection\n",
    "\n",
    "from sklearn.model_selection import train_test_split\n",
    "from sklearn.model_selection import GridSearchCV\n",
    "from sklearn.model_selection import KFold\n",
    "from sklearn.metrics import roc_auc_score, roc_curve, auc\n",
    "from sklearn.metrics import accuracy_score\n",
    "from sklearn.metrics import classification_report\n",
    "\n",
    "#Dimension Reduction\n",
    "from sklearn.decomposition import PCA"
   ]
  },
  {
   "cell_type": "code",
   "execution_count": 299,
   "metadata": {
    "collapsed": true
   },
   "outputs": [],
   "source": [
    "cardio=pd.read_csv(\"cardiac_arrhythmia.csv\", header=None)"
   ]
  },
  {
   "cell_type": "code",
   "execution_count": 300,
   "metadata": {},
   "outputs": [
    {
     "data": {
      "text/html": [
       "<div>\n",
       "<style>\n",
       "    .dataframe thead tr:only-child th {\n",
       "        text-align: right;\n",
       "    }\n",
       "\n",
       "    .dataframe thead th {\n",
       "        text-align: left;\n",
       "    }\n",
       "\n",
       "    .dataframe tbody tr th {\n",
       "        vertical-align: top;\n",
       "    }\n",
       "</style>\n",
       "<table border=\"1\" class=\"dataframe\">\n",
       "  <thead>\n",
       "    <tr style=\"text-align: right;\">\n",
       "      <th></th>\n",
       "      <th>0</th>\n",
       "      <th>1</th>\n",
       "      <th>2</th>\n",
       "      <th>3</th>\n",
       "      <th>4</th>\n",
       "      <th>5</th>\n",
       "      <th>6</th>\n",
       "      <th>7</th>\n",
       "      <th>8</th>\n",
       "      <th>9</th>\n",
       "      <th>...</th>\n",
       "      <th>270</th>\n",
       "      <th>271</th>\n",
       "      <th>272</th>\n",
       "      <th>273</th>\n",
       "      <th>274</th>\n",
       "      <th>275</th>\n",
       "      <th>276</th>\n",
       "      <th>277</th>\n",
       "      <th>278</th>\n",
       "      <th>279</th>\n",
       "    </tr>\n",
       "  </thead>\n",
       "  <tbody>\n",
       "    <tr>\n",
       "      <th>0</th>\n",
       "      <td>75</td>\n",
       "      <td>0</td>\n",
       "      <td>190</td>\n",
       "      <td>80</td>\n",
       "      <td>91</td>\n",
       "      <td>193</td>\n",
       "      <td>371</td>\n",
       "      <td>174</td>\n",
       "      <td>121</td>\n",
       "      <td>-16</td>\n",
       "      <td>...</td>\n",
       "      <td>0.0</td>\n",
       "      <td>9.0</td>\n",
       "      <td>-0.9</td>\n",
       "      <td>0.0</td>\n",
       "      <td>0</td>\n",
       "      <td>0.9</td>\n",
       "      <td>2.9</td>\n",
       "      <td>23.3</td>\n",
       "      <td>49.4</td>\n",
       "      <td>8</td>\n",
       "    </tr>\n",
       "    <tr>\n",
       "      <th>1</th>\n",
       "      <td>56</td>\n",
       "      <td>1</td>\n",
       "      <td>165</td>\n",
       "      <td>64</td>\n",
       "      <td>81</td>\n",
       "      <td>174</td>\n",
       "      <td>401</td>\n",
       "      <td>149</td>\n",
       "      <td>39</td>\n",
       "      <td>25</td>\n",
       "      <td>...</td>\n",
       "      <td>0.0</td>\n",
       "      <td>8.5</td>\n",
       "      <td>0.0</td>\n",
       "      <td>0.0</td>\n",
       "      <td>0</td>\n",
       "      <td>0.2</td>\n",
       "      <td>2.1</td>\n",
       "      <td>20.4</td>\n",
       "      <td>38.8</td>\n",
       "      <td>6</td>\n",
       "    </tr>\n",
       "    <tr>\n",
       "      <th>2</th>\n",
       "      <td>54</td>\n",
       "      <td>0</td>\n",
       "      <td>172</td>\n",
       "      <td>95</td>\n",
       "      <td>138</td>\n",
       "      <td>163</td>\n",
       "      <td>386</td>\n",
       "      <td>185</td>\n",
       "      <td>102</td>\n",
       "      <td>96</td>\n",
       "      <td>...</td>\n",
       "      <td>0.0</td>\n",
       "      <td>9.5</td>\n",
       "      <td>-2.4</td>\n",
       "      <td>0.0</td>\n",
       "      <td>0</td>\n",
       "      <td>0.3</td>\n",
       "      <td>3.4</td>\n",
       "      <td>12.3</td>\n",
       "      <td>49.0</td>\n",
       "      <td>10</td>\n",
       "    </tr>\n",
       "    <tr>\n",
       "      <th>3</th>\n",
       "      <td>55</td>\n",
       "      <td>0</td>\n",
       "      <td>175</td>\n",
       "      <td>94</td>\n",
       "      <td>100</td>\n",
       "      <td>202</td>\n",
       "      <td>380</td>\n",
       "      <td>179</td>\n",
       "      <td>143</td>\n",
       "      <td>28</td>\n",
       "      <td>...</td>\n",
       "      <td>0.0</td>\n",
       "      <td>12.2</td>\n",
       "      <td>-2.2</td>\n",
       "      <td>0.0</td>\n",
       "      <td>0</td>\n",
       "      <td>0.4</td>\n",
       "      <td>2.6</td>\n",
       "      <td>34.6</td>\n",
       "      <td>61.6</td>\n",
       "      <td>1</td>\n",
       "    </tr>\n",
       "    <tr>\n",
       "      <th>4</th>\n",
       "      <td>75</td>\n",
       "      <td>0</td>\n",
       "      <td>190</td>\n",
       "      <td>80</td>\n",
       "      <td>88</td>\n",
       "      <td>181</td>\n",
       "      <td>360</td>\n",
       "      <td>177</td>\n",
       "      <td>103</td>\n",
       "      <td>-16</td>\n",
       "      <td>...</td>\n",
       "      <td>0.0</td>\n",
       "      <td>13.1</td>\n",
       "      <td>-3.6</td>\n",
       "      <td>0.0</td>\n",
       "      <td>0</td>\n",
       "      <td>-0.1</td>\n",
       "      <td>3.9</td>\n",
       "      <td>25.4</td>\n",
       "      <td>62.8</td>\n",
       "      <td>7</td>\n",
       "    </tr>\n",
       "  </tbody>\n",
       "</table>\n",
       "<p>5 rows × 280 columns</p>\n",
       "</div>"
      ],
      "text/plain": [
       "   0    1    2    3    4    5    6    7    8    9   ...   270   271  272  273  \\\n",
       "0   75    0  190   80   91  193  371  174  121  -16 ...   0.0   9.0 -0.9  0.0   \n",
       "1   56    1  165   64   81  174  401  149   39   25 ...   0.0   8.5  0.0  0.0   \n",
       "2   54    0  172   95  138  163  386  185  102   96 ...   0.0   9.5 -2.4  0.0   \n",
       "3   55    0  175   94  100  202  380  179  143   28 ...   0.0  12.2 -2.2  0.0   \n",
       "4   75    0  190   80   88  181  360  177  103  -16 ...   0.0  13.1 -3.6  0.0   \n",
       "\n",
       "  274  275  276   277   278  279  \n",
       "0   0  0.9  2.9  23.3  49.4    8  \n",
       "1   0  0.2  2.1  20.4  38.8    6  \n",
       "2   0  0.3  3.4  12.3  49.0   10  \n",
       "3   0  0.4  2.6  34.6  61.6    1  \n",
       "4   0 -0.1  3.9  25.4  62.8    7  \n",
       "\n",
       "[5 rows x 280 columns]"
      ]
     },
     "execution_count": 300,
     "metadata": {},
     "output_type": "execute_result"
    }
   ],
   "source": [
    "cardio.head()"
   ]
  },
  {
   "cell_type": "markdown",
   "metadata": {},
   "source": [
    "## Data cleaning"
   ]
  },
  {
   "cell_type": "code",
   "execution_count": 301,
   "metadata": {},
   "outputs": [
    {
     "name": "stdout",
     "output_type": "stream",
     "text": [
      "Int64Index([10, 11, 12, 13, 14], dtype='int64')\n"
     ]
    }
   ],
   "source": [
    "#Identifying str columns and convert them to int\n",
    "cardio_object=cardio.loc[:,cardio.dtypes==\"object\"]\n",
    "print(cardio_object.columns)\n",
    "for i in list(cardio_object.columns):\n",
    "    cardio[i] = pd.to_numeric(cardio[i], errors=\"coerce\")"
   ]
  },
  {
   "cell_type": "code",
   "execution_count": 302,
   "metadata": {},
   "outputs": [],
   "source": [
    "# Remove cloumns with more than 95% null values\n",
    "cardio=cardio.loc[:,cardio.notnull().sum()>len(cardio)*0.95]"
   ]
  },
  {
   "cell_type": "code",
   "execution_count": 303,
   "metadata": {
    "collapsed": true
   },
   "outputs": [],
   "source": [
    "# fill the rest of null values with mean\n",
    "cardio=cardio.fillna(cardio.mean())"
   ]
  },
  {
   "cell_type": "code",
   "execution_count": 304,
   "metadata": {},
   "outputs": [
    {
     "data": {
      "text/plain": [
       "1     245\n",
       "10     50\n",
       "2      44\n",
       "6      25\n",
       "16     22\n",
       "4      15\n",
       "3      15\n",
       "5      13\n",
       "9       9\n",
       "15      5\n",
       "14      4\n",
       "7       3\n",
       "8       2\n",
       "Name: 279, dtype: int64"
      ]
     },
     "execution_count": 304,
     "metadata": {},
     "output_type": "execute_result"
    }
   ],
   "source": [
    "cardio.iloc[:,-1].value_counts()"
   ]
  },
  {
   "cell_type": "code",
   "execution_count": 385,
   "metadata": {
    "collapsed": true
   },
   "outputs": [],
   "source": [
    "x = cardio.iloc[:,:-1]\n",
    "y = cardio.iloc[:,-1]"
   ]
  },
  {
   "cell_type": "code",
   "execution_count": 386,
   "metadata": {},
   "outputs": [],
   "source": [
    "# aggregate calss: 7, 8, 9, 14, 15 since the number of the five classes are too small\n",
    "y = pd.Series([100 if i == 7 or i == 8 or i == 9 or i == 14 or i == 15 else i for i in y])"
   ]
  },
  {
   "cell_type": "code",
   "execution_count": 387,
   "metadata": {
    "collapsed": true
   },
   "outputs": [],
   "source": [
    "X_train, X_test, y_train, y_test = train_test_split( x, y, test_size=0.25, random_state=0, stratify=y)"
   ]
  },
  {
   "cell_type": "code",
   "execution_count": 404,
   "metadata": {
    "collapsed": true
   },
   "outputs": [],
   "source": [
    "#Scaling the dataframe\n",
    "minmax=MinMaxScaler()\n",
    "X_train_mms=minmax.fit_transform(X_train)\n",
    "X_test_mms=minmax.transform(X_test)"
   ]
  },
  {
   "cell_type": "code",
   "execution_count": 388,
   "metadata": {},
   "outputs": [
    {
     "name": "stdout",
     "output_type": "stream",
     "text": [
      "1      184\n",
      "10      38\n",
      "2       33\n",
      "6       19\n",
      "100     17\n",
      "16      16\n",
      "4       11\n",
      "3       11\n",
      "5       10\n",
      "dtype: int64\n",
      "1      61\n",
      "10     12\n",
      "2      11\n",
      "100     6\n",
      "16      6\n",
      "6       6\n",
      "4       4\n",
      "3       4\n",
      "5       3\n",
      "dtype: int64\n"
     ]
    }
   ],
   "source": [
    "print(y_train.value_counts())\n",
    "print(y_test.value_counts())"
   ]
  },
  {
   "cell_type": "markdown",
   "metadata": {},
   "source": [
    "## 1. multi-class classification"
   ]
  },
  {
   "cell_type": "code",
   "execution_count": 405,
   "metadata": {},
   "outputs": [
    {
     "name": "stdout",
     "output_type": "stream",
     "text": [
      "Best K: {'max_depth': 15, 'n_estimators': 30}\n",
      "Best cross-validation Accuracy: 0.7286\n",
      "Best estimator:\n",
      "RandomForestClassifier(bootstrap=True, class_weight=None, criterion='gini',\n",
      "            max_depth=15, max_features='auto', max_leaf_nodes=None,\n",
      "            min_impurity_decrease=0.0, min_impurity_split=None,\n",
      "            min_samples_leaf=1, min_samples_split=2,\n",
      "            min_weight_fraction_leaf=0.0, n_estimators=30, n_jobs=1,\n",
      "            oob_score=False, random_state=None, verbose=0,\n",
      "            warm_start=False)\n"
     ]
    }
   ],
   "source": [
    "#Setting the parameters\n",
    "aux_randomforest=RandomForestClassifier()\n",
    "randomforestparam = {\"n_estimators\":[6, 10, 20, 25, 30, 50],\n",
    "     \"max_depth\":[5,10,15,20, None]}\n",
    "grid_randomforest=GridSearchCV(aux_randomforest, randomforestparam, cv=5)\n",
    "\n",
    "#Fitting\n",
    "grid_randomforest.fit(X_train_mms, y_train)\n",
    "\n",
    "#Print reports\n",
    "print(\"Best K: {}\".format(grid_randomforest.best_params_))\n",
    "print(\"Best cross-validation Accuracy: {:.4f}\".format(grid_randomforest.best_score_))\n",
    "print(\"Best estimator:\\n{}\".format(grid_randomforest.best_estimator_))"
   ]
  },
  {
   "cell_type": "code",
   "execution_count": 422,
   "metadata": {},
   "outputs": [
    {
     "name": "stdout",
     "output_type": "stream",
     "text": [
      "Accuracy (Train): 0.9941\n",
      "Accuracy(Test): 0.7080\n",
      "             precision    recall  f1-score   support\n",
      "\n",
      "          1       0.77      0.92      0.84        61\n",
      "          2       0.45      0.45      0.45        11\n",
      "          3       0.60      0.75      0.67         4\n",
      "          4       0.67      0.50      0.57         4\n",
      "          5       0.00      0.00      0.00         3\n",
      "          6       0.75      0.50      0.60         6\n",
      "         10       0.64      0.75      0.69        12\n",
      "         16       0.00      0.00      0.00         6\n",
      "        100       1.00      0.33      0.50         6\n",
      "\n",
      "avg / total       0.66      0.71      0.67       113\n",
      "\n"
     ]
    }
   ],
   "source": [
    "randomforest=RandomForestClassifier(max_depth=15, n_estimators=30)\n",
    "randomforest.fit(X_train_mms, y_train)\n",
    "\n",
    "\n",
    "yrandomforest_test_predict = randomforest.predict(X_test_mms)\n",
    "\n",
    "\n",
    "print('Accuracy (Train): {:.4f}'.format(randomforest.score(X_train_mms, y_train)))\n",
    "print('Accuracy(Test): {:.4f}'.format(randomforest.score(X_test_mms, y_test)))\n",
    "print(classification_report(y_test, yrandomforest_test_predict))"
   ]
  },
  {
   "cell_type": "markdown",
   "metadata": {},
   "source": [
    "## All Classes Pointwise Ranking"
   ]
  },
  {
   "cell_type": "code",
   "execution_count": 438,
   "metadata": {},
   "outputs": [
    {
     "name": "stdout",
     "output_type": "stream",
     "text": [
      "Class number:  100\n",
      "Best C: {'C': 0.001}\n",
      "Best cross-validation auc_roc: 0.7142\n",
      "Best estimator:\n",
      "LogisticRegression(C=0.001, class_weight=None, dual=False, fit_intercept=True,\n",
      "          intercept_scaling=1, max_iter=100, multi_class='ovr', n_jobs=1,\n",
      "          penalty='l2', random_state=None, solver='liblinear', tol=0.0001,\n",
      "          verbose=0, warm_start=False)\n",
      "Class number:  6\n",
      "Best C: {'C': 0.1}\n",
      "Best cross-validation auc_roc: 0.9207\n",
      "Best estimator:\n",
      "LogisticRegression(C=0.1, class_weight=None, dual=False, fit_intercept=True,\n",
      "          intercept_scaling=1, max_iter=100, multi_class='ovr', n_jobs=1,\n",
      "          penalty='l2', random_state=None, solver='liblinear', tol=0.0001,\n",
      "          verbose=0, warm_start=False)\n",
      "Class number:  10\n",
      "Best C: {'C': 0.001}\n",
      "Best cross-validation auc_roc: 0.9644\n",
      "Best estimator:\n",
      "LogisticRegression(C=0.001, class_weight=None, dual=False, fit_intercept=True,\n",
      "          intercept_scaling=1, max_iter=100, multi_class='ovr', n_jobs=1,\n",
      "          penalty='l2', random_state=None, solver='liblinear', tol=0.0001,\n",
      "          verbose=0, warm_start=False)\n",
      "Class number:  1\n",
      "Best C: {'C': 0.001}\n",
      "Best cross-validation auc_roc: 0.7762\n",
      "Best estimator:\n",
      "LogisticRegression(C=0.001, class_weight=None, dual=False, fit_intercept=True,\n",
      "          intercept_scaling=1, max_iter=100, multi_class='ovr', n_jobs=1,\n",
      "          penalty='l2', random_state=None, solver='liblinear', tol=0.0001,\n",
      "          verbose=0, warm_start=False)\n",
      "Class number:  3\n",
      "Best C: {'C': 0.001}\n",
      "Best cross-validation auc_roc: 0.9893\n",
      "Best estimator:\n",
      "LogisticRegression(C=0.001, class_weight=None, dual=False, fit_intercept=True,\n",
      "          intercept_scaling=1, max_iter=100, multi_class='ovr', n_jobs=1,\n",
      "          penalty='l2', random_state=None, solver='liblinear', tol=0.0001,\n",
      "          verbose=0, warm_start=False)\n",
      "Class number:  16\n",
      "Best C: {'C': 0.001}\n",
      "Best cross-validation auc_roc: 0.4662\n",
      "Best estimator:\n",
      "LogisticRegression(C=0.001, class_weight=None, dual=False, fit_intercept=True,\n",
      "          intercept_scaling=1, max_iter=100, multi_class='ovr', n_jobs=1,\n",
      "          penalty='l2', random_state=None, solver='liblinear', tol=0.0001,\n",
      "          verbose=0, warm_start=False)\n",
      "Class number:  2\n",
      "Best C: {'C': 0.001}\n",
      "Best cross-validation auc_roc: 0.7906\n",
      "Best estimator:\n",
      "LogisticRegression(C=0.001, class_weight=None, dual=False, fit_intercept=True,\n",
      "          intercept_scaling=1, max_iter=100, multi_class='ovr', n_jobs=1,\n",
      "          penalty='l2', random_state=None, solver='liblinear', tol=0.0001,\n",
      "          verbose=0, warm_start=False)\n",
      "Class number:  4\n",
      "Best C: {'C': 0.001}\n",
      "Best cross-validation auc_roc: 0.9804\n",
      "Best estimator:\n",
      "LogisticRegression(C=0.001, class_weight=None, dual=False, fit_intercept=True,\n",
      "          intercept_scaling=1, max_iter=100, multi_class='ovr', n_jobs=1,\n",
      "          penalty='l2', random_state=None, solver='liblinear', tol=0.0001,\n",
      "          verbose=0, warm_start=False)\n",
      "Class number:  5\n",
      "Best C: {'C': 0.5}\n",
      "Best cross-validation auc_roc: 0.9091\n",
      "Best estimator:\n",
      "LogisticRegression(C=0.5, class_weight=None, dual=False, fit_intercept=True,\n",
      "          intercept_scaling=1, max_iter=100, multi_class='ovr', n_jobs=1,\n",
      "          penalty='l2', random_state=None, solver='liblinear', tol=0.0001,\n",
      "          verbose=0, warm_start=False)\n"
     ]
    }
   ],
   "source": [
    "parameters = {\"C\":[0.001, 0.01, 0.1,0.5, 1,5]}\n",
    "probability_lg = pd.DataFrame()\n",
    "for n in y.unique():\n",
    "    print('Class number: ', n)\n",
    "    # create y for the class\n",
    "    y_train_loop = pd.Series([1 if i == n else 0 for i in y_train])\n",
    "    y_test_loop = pd.Series([1 if i == n else 0 for i in y_test])\n",
    "    # tuning parameters\n",
    "    grid_logit=GridSearchCV(LogisticRegression(), parameters , scoring = 'roc_auc', cv=3)\n",
    "    grid_logit.fit(X_train, y_train_loop)\n",
    "    print(\"Best C: {}\".format(grid_logit.best_params_))\n",
    "    print(\"Best cross-validation auc_roc: {:.4f}\".format(grid_logit.best_score_))\n",
    "    print('Best estimator:\\n{}'.format(grid_logit.best_estimator_))\n",
    "    best_model = grid_logit.best_estimator_\n",
    "    best_model.fit(X_train, y_train_loop)\n",
    "    # probability \n",
    "    probability_lg[\"Topic #%d \" % n] = best_model.predict_proba(X_test)[:,1]"
   ]
  },
  {
   "cell_type": "code",
   "execution_count": 439,
   "metadata": {},
   "outputs": [],
   "source": [
    "probability_lg['ranking'] = probability_lg.idxmax(axis=1)\n",
    "probability_lg['true'] = list(y_test)\n",
    "probability_lg['ranking_2'] = probability_lg['ranking'].map(lambda x:pd.to_numeric(x.split('#')[-1].rstrip()))"
   ]
  },
  {
   "cell_type": "markdown",
   "metadata": {},
   "source": [
    "## Comparing the two methods"
   ]
  },
  {
   "cell_type": "code",
   "execution_count": 440,
   "metadata": {},
   "outputs": [
    {
     "name": "stdout",
     "output_type": "stream",
     "text": [
      "             precision    recall  f1-score   support\n",
      "\n",
      "          1       0.73      0.80      0.77        61\n",
      "          2       0.86      0.55      0.67        11\n",
      "          3       0.80      1.00      0.89         4\n",
      "          4       0.75      0.75      0.75         4\n",
      "          5       0.33      0.67      0.44         3\n",
      "          6       0.25      0.33      0.29         6\n",
      "         10       0.64      0.58      0.61        12\n",
      "         16       0.00      0.00      0.00         6\n",
      "        100       0.67      0.33      0.44         6\n",
      "\n",
      "avg / total       0.66      0.66      0.65       113\n",
      "\n",
      "Accuracy: 0.6637\n"
     ]
    }
   ],
   "source": [
    "print(classification_report(probability_lg['true'], probability_lg['ranking_2']))\n",
    "print(\"Accuracy: {:.4f}\".format(accuracy_score(probability_lg['true'], probability_lg['ranking_2'])))"
   ]
  },
  {
   "cell_type": "code",
   "execution_count": 441,
   "metadata": {},
   "outputs": [
    {
     "name": "stdout",
     "output_type": "stream",
     "text": [
      "             precision    recall  f1-score   support\n",
      "\n",
      "          1       0.87      0.74      0.80        61\n",
      "          2       0.50      0.45      0.48        11\n",
      "          3       0.40      0.50      0.44         4\n",
      "          4       0.16      0.75      0.26         4\n",
      "          5       0.50      0.67      0.57         3\n",
      "          6       0.62      0.83      0.71         6\n",
      "         10       0.53      0.67      0.59        12\n",
      "         16       0.00      0.00      0.00         6\n",
      "        100       0.00      0.00      0.00         6\n",
      "\n",
      "avg / total       0.64      0.62      0.62       113\n",
      "\n",
      "Accuracy: 0.7080\n"
     ]
    }
   ],
   "source": [
    "print(classification_report(y_test, ytree_test_predict))\n",
    "print(\"Accuracy: {:.4f}\".format(accuracy_score(y_test, yrandomforest_test_predict)))"
   ]
  },
  {
   "cell_type": "code",
   "execution_count": 442,
   "metadata": {},
   "outputs": [
    {
     "name": "stdout",
     "output_type": "stream",
     "text": [
      "Class number:  100\n",
      "Best C: {'max_depth': None, 'n_estimators': 50}\n",
      "Best cross-validation auc_roc: 0.8147\n",
      "Best estimator:\n",
      "RandomForestClassifier(bootstrap=True, class_weight=None, criterion='gini',\n",
      "            max_depth=None, max_features='auto', max_leaf_nodes=None,\n",
      "            min_impurity_decrease=0.0, min_impurity_split=None,\n",
      "            min_samples_leaf=1, min_samples_split=2,\n",
      "            min_weight_fraction_leaf=0.0, n_estimators=50, n_jobs=1,\n",
      "            oob_score=False, random_state=None, verbose=0,\n",
      "            warm_start=False)\n",
      "Class number:  6\n",
      "Best C: {'max_depth': None, 'n_estimators': 10}\n",
      "Best cross-validation auc_roc: 0.9599\n",
      "Best estimator:\n",
      "RandomForestClassifier(bootstrap=True, class_weight=None, criterion='gini',\n",
      "            max_depth=None, max_features='auto', max_leaf_nodes=None,\n",
      "            min_impurity_decrease=0.0, min_impurity_split=None,\n",
      "            min_samples_leaf=1, min_samples_split=2,\n",
      "            min_weight_fraction_leaf=0.0, n_estimators=10, n_jobs=1,\n",
      "            oob_score=False, random_state=None, verbose=0,\n",
      "            warm_start=False)\n",
      "Class number:  10\n",
      "Best C: {'max_depth': 5, 'n_estimators': 20}\n",
      "Best cross-validation auc_roc: 0.9686\n",
      "Best estimator:\n",
      "RandomForestClassifier(bootstrap=True, class_weight=None, criterion='gini',\n",
      "            max_depth=5, max_features='auto', max_leaf_nodes=None,\n",
      "            min_impurity_decrease=0.0, min_impurity_split=None,\n",
      "            min_samples_leaf=1, min_samples_split=2,\n",
      "            min_weight_fraction_leaf=0.0, n_estimators=20, n_jobs=1,\n",
      "            oob_score=False, random_state=None, verbose=0,\n",
      "            warm_start=False)\n",
      "Class number:  1\n",
      "Best C: {'max_depth': 20, 'n_estimators': 20}\n",
      "Best cross-validation auc_roc: 0.8657\n",
      "Best estimator:\n",
      "RandomForestClassifier(bootstrap=True, class_weight=None, criterion='gini',\n",
      "            max_depth=20, max_features='auto', max_leaf_nodes=None,\n",
      "            min_impurity_decrease=0.0, min_impurity_split=None,\n",
      "            min_samples_leaf=1, min_samples_split=2,\n",
      "            min_weight_fraction_leaf=0.0, n_estimators=20, n_jobs=1,\n",
      "            oob_score=False, random_state=None, verbose=0,\n",
      "            warm_start=False)\n",
      "Class number:  3\n",
      "Best C: {'max_depth': None, 'n_estimators': 20}\n",
      "Best cross-validation auc_roc: 0.9946\n",
      "Best estimator:\n",
      "RandomForestClassifier(bootstrap=True, class_weight=None, criterion='gini',\n",
      "            max_depth=None, max_features='auto', max_leaf_nodes=None,\n",
      "            min_impurity_decrease=0.0, min_impurity_split=None,\n",
      "            min_samples_leaf=1, min_samples_split=2,\n",
      "            min_weight_fraction_leaf=0.0, n_estimators=20, n_jobs=1,\n",
      "            oob_score=False, random_state=None, verbose=0,\n",
      "            warm_start=False)\n",
      "Class number:  16\n",
      "Best C: {'max_depth': 20, 'n_estimators': 10}\n",
      "Best cross-validation auc_roc: 0.6576\n",
      "Best estimator:\n",
      "RandomForestClassifier(bootstrap=True, class_weight=None, criterion='gini',\n",
      "            max_depth=20, max_features='auto', max_leaf_nodes=None,\n",
      "            min_impurity_decrease=0.0, min_impurity_split=None,\n",
      "            min_samples_leaf=1, min_samples_split=2,\n",
      "            min_weight_fraction_leaf=0.0, n_estimators=10, n_jobs=1,\n",
      "            oob_score=False, random_state=None, verbose=0,\n",
      "            warm_start=False)\n",
      "Class number:  2\n",
      "Best C: {'max_depth': 10, 'n_estimators': 25}\n",
      "Best cross-validation auc_roc: 0.9360\n",
      "Best estimator:\n",
      "RandomForestClassifier(bootstrap=True, class_weight=None, criterion='gini',\n",
      "            max_depth=10, max_features='auto', max_leaf_nodes=None,\n",
      "            min_impurity_decrease=0.0, min_impurity_split=None,\n",
      "            min_samples_leaf=1, min_samples_split=2,\n",
      "            min_weight_fraction_leaf=0.0, n_estimators=25, n_jobs=1,\n",
      "            oob_score=False, random_state=None, verbose=0,\n",
      "            warm_start=False)\n",
      "Class number:  4\n",
      "Best C: {'max_depth': 15, 'n_estimators': 30}\n",
      "Best cross-validation auc_roc: 0.9730\n",
      "Best estimator:\n",
      "RandomForestClassifier(bootstrap=True, class_weight=None, criterion='gini',\n",
      "            max_depth=15, max_features='auto', max_leaf_nodes=None,\n",
      "            min_impurity_decrease=0.0, min_impurity_split=None,\n",
      "            min_samples_leaf=1, min_samples_split=2,\n",
      "            min_weight_fraction_leaf=0.0, n_estimators=30, n_jobs=1,\n",
      "            oob_score=False, random_state=None, verbose=0,\n",
      "            warm_start=False)\n",
      "Class number:  5\n",
      "Best C: {'max_depth': None, 'n_estimators': 10}\n",
      "Best cross-validation auc_roc: 0.8858\n",
      "Best estimator:\n",
      "RandomForestClassifier(bootstrap=True, class_weight=None, criterion='gini',\n",
      "            max_depth=None, max_features='auto', max_leaf_nodes=None,\n",
      "            min_impurity_decrease=0.0, min_impurity_split=None,\n",
      "            min_samples_leaf=1, min_samples_split=2,\n",
      "            min_weight_fraction_leaf=0.0, n_estimators=10, n_jobs=1,\n",
      "            oob_score=False, random_state=None, verbose=0,\n",
      "            warm_start=False)\n"
     ]
    }
   ],
   "source": [
    "randomforestparam = {\"n_estimators\":[6, 10, 20, 25, 30, 50],\n",
    "     \"max_depth\":[5,10,15,20, None]}\n",
    "probability = pd.DataFrame()\n",
    "for n in y.unique():\n",
    "    print('Class number: ', n)\n",
    "    # create y for the class\n",
    "    y_train_loop = pd.Series([1 if i == n else 0 for i in y_train])\n",
    "    y_test_loop = pd.Series([1 if i == n else 0 for i in y_test])\n",
    "    # tuning parameters\n",
    "    grid_logit=GridSearchCV(RandomForestClassifier(), randomforestparam , scoring = 'roc_auc', cv=3)\n",
    "    grid_logit.fit(X_train_mms, y_train_loop)\n",
    "    print(\"Best C: {}\".format(grid_logit.best_params_))\n",
    "    print(\"Best cross-validation auc_roc: {:.4f}\".format(grid_logit.best_score_))\n",
    "    print('Best estimator:\\n{}'.format(grid_logit.best_estimator_))\n",
    "    best_model = grid_logit.best_estimator_\n",
    "    best_model.fit(X_train_mms, y_train_loop)\n",
    "    # probability \n",
    "    probability[\"Topic #%d \" % n] = best_model.predict_proba(X_test_mms)[:,1]"
   ]
  },
  {
   "cell_type": "code",
   "execution_count": 443,
   "metadata": {},
   "outputs": [],
   "source": [
    "probability['ranking'] = probability.idxmax(axis=1)\n",
    "probability['true'] = list(y_test)\n",
    "probability['ranking_2'] = probability['ranking'].map(lambda x:pd.to_numeric(x.split('#')[-1].rstrip()))"
   ]
  },
  {
   "cell_type": "code",
   "execution_count": 444,
   "metadata": {},
   "outputs": [
    {
     "name": "stdout",
     "output_type": "stream",
     "text": [
      "             precision    recall  f1-score   support\n",
      "\n",
      "          1       0.70      0.95      0.81        61\n",
      "          2       0.50      0.36      0.42        11\n",
      "          3       0.75      0.75      0.75         4\n",
      "          4       0.67      0.50      0.57         4\n",
      "          5       1.00      0.33      0.50         3\n",
      "          6       0.50      0.17      0.25         6\n",
      "         10       0.71      0.42      0.53        12\n",
      "         16       0.00      0.00      0.00         6\n",
      "        100       1.00      0.50      0.67         6\n",
      "\n",
      "avg / total       0.66      0.68      0.64       113\n",
      "\n",
      "Accuracy: 0.6814\n"
     ]
    }
   ],
   "source": [
    "print(classification_report(probability['true'], probability['ranking_2']))\n",
    "print(\"Accuracy: {:.4f}\".format(accuracy_score(probability['true'], probability['ranking_2'])))"
   ]
  },
  {
   "cell_type": "markdown",
   "metadata": {},
   "source": [
    "# PCA"
   ]
  },
  {
   "cell_type": "code",
   "execution_count": 426,
   "metadata": {},
   "outputs": [],
   "source": [
    "pca_number = pd.DataFrame(columns=['Principle Components', 'Explained Variance', 'Multi(Test)'])\n",
    "index=0\n",
    "for i in list(range(2, 278))[::5]:\n",
    "    #PCA  X_train, y_train\n",
    "    pca=PCA(n_components=i)\n",
    "    pca.fit(X_train)\n",
    "    X_train_pca=pca.transform(X_train_mms)\n",
    "    X_test_pca=pca.transform(X_test_mms)\n",
    "    variance=pca.explained_variance_ratio_.sum()\n",
    "        \n",
    "    #multi class KNN\n",
    "    knn=KNeighborsClassifier(n_neighbors=3)\n",
    "    knn.fit(X_train_pca, y_train)\n",
    "    prediction=knn.predict(X_test_pca)\n",
    "    multi=accuracy_score(y_test, prediction)\n",
    "    \n",
    "    pca_number.loc[index]=[i,variance,multi]\n",
    "    index=index+1"
   ]
  },
  {
   "cell_type": "code",
   "execution_count": 427,
   "metadata": {},
   "outputs": [
    {
     "data": {
      "text/plain": [
       "<matplotlib.legend.Legend at 0x1a19f14a58>"
      ]
     },
     "execution_count": 427,
     "metadata": {},
     "output_type": "execute_result"
    },
    {
     "data": {
      "image/png": "[encoded data removed]",
      "text/plain": [
       "<matplotlib.figure.Figure at 0x1a19eb7b70>"
      ]
     },
     "metadata": {},
     "output_type": "display_data"
    }
   ],
   "source": [
    "fig, ax = plt.subplots(1, 2, figsize=(16,8))\n",
    "ax[0].plot('Principle Components', 'Multi(Test)','*-',data=pca_number)\n",
    "ax[0].grid(True)\n",
    "ax[0].legend()\n",
    "\n",
    "ax[1].plot('Principle Components', 'Explained Variance','.-',data=pca_number)\n",
    "ax[1].grid(True)\n",
    "ax[1].legend()"
   ]
  },
  {
   "cell_type": "code",
   "execution_count": 429,
   "metadata": {},
   "outputs": [
    {
     "name": "stdout",
     "output_type": "stream",
     "text": [
      "The percent of preserving variance is :82.04 %\n"
     ]
    }
   ],
   "source": [
    "pca=PCA(n_components=37)\n",
    "pca.fit(Xtrain_mms)\n",
    "Xtrain_pca=pca.transform(Xtrain_mms)\n",
    "Xtest_pca=pca.transform(Xtest_mms)\n",
    "print('The percent of preserving variance is :{:.2f} %'.format(pca.explained_variance_ratio_.sum()*100))"
   ]
  },
  {
   "cell_type": "code",
   "execution_count": 433,
   "metadata": {},
   "outputs": [
    {
     "name": "stdout",
     "output_type": "stream",
     "text": [
      "Best K: {'C': 1, 'gamma': 0.01, 'kernel': 'linear'}\n",
      "Best cross-validation R square: 0.7139\n",
      "Best estimator:\n",
      "SVC(C=1, cache_size=200, class_weight=None, coef0=0.0,\n",
      "  decision_function_shape='ovr', degree=3, gamma=0.01, kernel='linear',\n",
      "  max_iter=-1, probability=False, random_state=None, shrinking=True,\n",
      "  tol=0.001, verbose=False)\n"
     ]
    }
   ],
   "source": [
    "#Setting the parameters\n",
    "aux_linearSVC_pca=SVC()\n",
    "linearSVCparam_pca={\"kernel\":[\"linear\"],\n",
    "               \"C\":[1,10,100,1000],\n",
    "               \"gamma\":[0.01, 0.1, 0.5, 1]}\n",
    "grid_linearSVC_pca=GridSearchCV(aux_linearSVC_pca, linearSVCparam_pca, cv=5)\n",
    "\n",
    "#Fitting\n",
    "grid_linearSVC_pca.fit(Xtrain_pca, y_train)\n",
    "\n",
    "#Print reports\n",
    "print(\"Best K: {}\".format(grid_linearSVC_pca.best_params_))\n",
    "print(\"Best cross-validation R square: {:.4f}\".format(grid_linearSVC_pca.best_score_))\n",
    "print(\"Best estimator:\\n{}\".format(grid_linearSVC_pca.best_estimator_))"
   ]
  },
  {
   "cell_type": "code",
   "execution_count": 434,
   "metadata": {},
   "outputs": [
    {
     "name": "stdout",
     "output_type": "stream",
     "text": [
      "Accuracy (training): 0.8230\n",
      "Accuracy (test): 0.6814\n",
      "             precision    recall  f1-score   support\n",
      "\n",
      "          1       0.70      0.92      0.79        61\n",
      "          2       0.62      0.45      0.53        11\n",
      "          3       0.80      1.00      0.89         4\n",
      "          4       0.50      0.75      0.60         4\n",
      "          5       1.00      0.33      0.50         3\n",
      "          6       0.00      0.00      0.00         6\n",
      "         10       0.71      0.42      0.53        12\n",
      "         16       0.50      0.17      0.25         6\n",
      "        100       0.67      0.33      0.44         6\n",
      "\n",
      "avg / total       0.65      0.68      0.64       113\n",
      "\n"
     ]
    }
   ],
   "source": [
    "linearSVCmodel_pca=SVC(C=1, gamma=0.01, kernel=\"linear\")\n",
    "linearSVCmodel_pca.fit(Xtrain_pca, y_train)\n",
    "\n",
    "ylinearSVC_test_predict_pca=linearSVCmodel_pca.predict(Xtest_pca)\n",
    "\n",
    "print('Accuracy (training): {:.4f}'.format(linearSVCmodel_pca.score(Xtrain_pca, y_train)))\n",
    "print('Accuracy (test): {:.4f}'.format(linearSVCmodel_pca.score(Xtest_pca, y_test)))\n",
    "\n",
    "print(classification_report(y_test, ylinearSVC_test_predict_pca))"
   ]
  },
  {
   "cell_type": "code",
   "execution_count": 430,
   "metadata": {},
   "outputs": [
    {
     "name": "stdout",
     "output_type": "stream",
     "text": [
      "Class number:  100\n",
      "Best C: {'max_depth': 20, 'n_estimators': 30}\n",
      "Best cross-validation auc_roc: 0.8026\n",
      "Best estimator:\n",
      "RandomForestClassifier(bootstrap=True, class_weight=None, criterion='gini',\n",
      "            max_depth=20, max_features='auto', max_leaf_nodes=None,\n",
      "            min_impurity_decrease=0.0, min_impurity_split=None,\n",
      "            min_samples_leaf=1, min_samples_split=2,\n",
      "            min_weight_fraction_leaf=0.0, n_estimators=30, n_jobs=1,\n",
      "            oob_score=False, random_state=None, verbose=0,\n",
      "            warm_start=False)\n",
      "Class number:  6\n",
      "Best C: {'max_depth': 5, 'n_estimators': 25}\n",
      "Best cross-validation auc_roc: 0.6749\n",
      "Best estimator:\n",
      "RandomForestClassifier(bootstrap=True, class_weight=None, criterion='gini',\n",
      "            max_depth=5, max_features='auto', max_leaf_nodes=None,\n",
      "            min_impurity_decrease=0.0, min_impurity_split=None,\n",
      "            min_samples_leaf=1, min_samples_split=2,\n",
      "            min_weight_fraction_leaf=0.0, n_estimators=25, n_jobs=1,\n",
      "            oob_score=False, random_state=None, verbose=0,\n",
      "            warm_start=False)\n",
      "Class number:  10\n",
      "Best C: {'max_depth': 15, 'n_estimators': 20}\n",
      "Best cross-validation auc_roc: 0.8612\n",
      "Best estimator:\n",
      "RandomForestClassifier(bootstrap=True, class_weight=None, criterion='gini',\n",
      "            max_depth=15, max_features='auto', max_leaf_nodes=None,\n",
      "            min_impurity_decrease=0.0, min_impurity_split=None,\n",
      "            min_samples_leaf=1, min_samples_split=2,\n",
      "            min_weight_fraction_leaf=0.0, n_estimators=20, n_jobs=1,\n",
      "            oob_score=False, random_state=None, verbose=0,\n",
      "            warm_start=False)\n",
      "Class number:  1\n",
      "Best C: {'max_depth': 15, 'n_estimators': 50}\n",
      "Best cross-validation auc_roc: 0.7850\n",
      "Best estimator:\n",
      "RandomForestClassifier(bootstrap=True, class_weight=None, criterion='gini',\n",
      "            max_depth=15, max_features='auto', max_leaf_nodes=None,\n",
      "            min_impurity_decrease=0.0, min_impurity_split=None,\n",
      "            min_samples_leaf=1, min_samples_split=2,\n",
      "            min_weight_fraction_leaf=0.0, n_estimators=50, n_jobs=1,\n",
      "            oob_score=False, random_state=None, verbose=0,\n",
      "            warm_start=False)\n",
      "Class number:  3\n",
      "Best C: {'max_depth': None, 'n_estimators': 25}\n",
      "Best cross-validation auc_roc: 0.9904\n",
      "Best estimator:\n",
      "RandomForestClassifier(bootstrap=True, class_weight=None, criterion='gini',\n",
      "            max_depth=None, max_features='auto', max_leaf_nodes=None,\n",
      "            min_impurity_decrease=0.0, min_impurity_split=None,\n",
      "            min_samples_leaf=1, min_samples_split=2,\n",
      "            min_weight_fraction_leaf=0.0, n_estimators=25, n_jobs=1,\n",
      "            oob_score=False, random_state=None, verbose=0,\n",
      "            warm_start=False)\n",
      "Class number:  16\n",
      "Best C: {'max_depth': 15, 'n_estimators': 20}\n",
      "Best cross-validation auc_roc: 0.6753\n",
      "Best estimator:\n",
      "RandomForestClassifier(bootstrap=True, class_weight=None, criterion='gini',\n",
      "            max_depth=15, max_features='auto', max_leaf_nodes=None,\n",
      "            min_impurity_decrease=0.0, min_impurity_split=None,\n",
      "            min_samples_leaf=1, min_samples_split=2,\n",
      "            min_weight_fraction_leaf=0.0, n_estimators=20, n_jobs=1,\n",
      "            oob_score=False, random_state=None, verbose=0,\n",
      "            warm_start=False)\n",
      "Class number:  2\n",
      "Best C: {'max_depth': 10, 'n_estimators': 20}\n",
      "Best cross-validation auc_roc: 0.8084\n",
      "Best estimator:\n",
      "RandomForestClassifier(bootstrap=True, class_weight=None, criterion='gini',\n",
      "            max_depth=10, max_features='auto', max_leaf_nodes=None,\n",
      "            min_impurity_decrease=0.0, min_impurity_split=None,\n",
      "            min_samples_leaf=1, min_samples_split=2,\n",
      "            min_weight_fraction_leaf=0.0, n_estimators=20, n_jobs=1,\n",
      "            oob_score=False, random_state=None, verbose=0,\n",
      "            warm_start=False)\n",
      "Class number:  4\n",
      "Best C: {'max_depth': 5, 'n_estimators': 50}\n",
      "Best cross-validation auc_roc: 0.9493\n",
      "Best estimator:\n",
      "RandomForestClassifier(bootstrap=True, class_weight=None, criterion='gini',\n",
      "            max_depth=5, max_features='auto', max_leaf_nodes=None,\n",
      "            min_impurity_decrease=0.0, min_impurity_split=None,\n",
      "            min_samples_leaf=1, min_samples_split=2,\n",
      "            min_weight_fraction_leaf=0.0, n_estimators=50, n_jobs=1,\n",
      "            oob_score=False, random_state=None, verbose=0,\n",
      "            warm_start=False)\n",
      "Class number:  5\n",
      "Best C: {'max_depth': 15, 'n_estimators': 50}\n",
      "Best cross-validation auc_roc: 0.7153\n",
      "Best estimator:\n",
      "RandomForestClassifier(bootstrap=True, class_weight=None, criterion='gini',\n",
      "            max_depth=15, max_features='auto', max_leaf_nodes=None,\n",
      "            min_impurity_decrease=0.0, min_impurity_split=None,\n",
      "            min_samples_leaf=1, min_samples_split=2,\n",
      "            min_weight_fraction_leaf=0.0, n_estimators=50, n_jobs=1,\n",
      "            oob_score=False, random_state=None, verbose=0,\n",
      "            warm_start=False)\n"
     ]
    }
   ],
   "source": [
    "randomforestparam = {\"n_estimators\":[6, 10, 20, 25, 30, 50],\n",
    "     \"max_depth\":[5,10,15,20, None]}\n",
    "probability_PCA = pd.DataFrame()\n",
    "for n in y.unique():\n",
    "    print('Class number: ', n)\n",
    "    # create y for the class\n",
    "    y_train_loop = pd.Series([1 if i == n else 0 for i in y_train])\n",
    "    y_test_loop = pd.Series([1 if i == n else 0 for i in y_test])\n",
    "    # tuning parameters\n",
    "    grid_logit=GridSearchCV(RandomForestClassifier(), randomforestparam , scoring = 'roc_auc', cv=3)\n",
    "    grid_logit.fit(Xtrain_pca, y_train_loop)\n",
    "    print(\"Best C: {}\".format(grid_logit.best_params_))\n",
    "    print(\"Best cross-validation auc_roc: {:.4f}\".format(grid_logit.best_score_))\n",
    "    print('Best estimator:\\n{}'.format(grid_logit.best_estimator_))\n",
    "    best_model = grid_logit.best_estimator_\n",
    "    best_model.fit(Xtrain_pca, y_train_loop)\n",
    "    # probability \n",
    "    probability_PCA[\"Topic #%d \" % n] = best_model.predict_proba(Xtest_pca)[:,1]"
   ]
  },
  {
   "cell_type": "code",
   "execution_count": 431,
   "metadata": {
    "collapsed": true
   },
   "outputs": [],
   "source": [
    "probability_PCA['ranking'] = probability_PCA.idxmax(axis=1)\n",
    "probability_PCA['true'] = list(y_test)\n",
    "probability_PCA['ranking_2'] = probability_PCA['ranking'].map(lambda x:pd.to_numeric(x.split('#')[-1].rstrip()))"
   ]
  },
  {
   "cell_type": "code",
   "execution_count": 432,
   "metadata": {},
   "outputs": [
    {
     "name": "stdout",
     "output_type": "stream",
     "text": [
      "             precision    recall  f1-score   support\n",
      "\n",
      "          1       0.69      0.93      0.79        61\n",
      "          2       0.38      0.27      0.32        11\n",
      "          3       0.67      1.00      0.80         4\n",
      "          4       1.00      0.75      0.86         4\n",
      "          5       0.50      0.33      0.40         3\n",
      "          6       0.00      0.00      0.00         6\n",
      "         10       0.71      0.42      0.53        12\n",
      "         16       0.00      0.00      0.00         6\n",
      "        100       0.75      0.50      0.60         6\n",
      "\n",
      "avg / total       0.60      0.67      0.62       113\n",
      "\n",
      "Accuracy: 0.6726\n"
     ]
    }
   ],
   "source": [
    "print(classification_report(probability['true'], probability['ranking_2']))\n",
    "print(\"Accuracy: {:.4f}\".format(accuracy_score(probability['true'], probability['ranking_2'])))"
   ]
  },
  {
   "cell_type": "code",
   "execution_count": 435,
   "metadata": {},
   "outputs": [
    {
     "name": "stdout",
     "output_type": "stream",
     "text": [
      "Class number:  100\n",
      "Best C: {'C': 0.1}\n",
      "Best cross-validation auc_roc: 0.7067\n",
      "Best estimator:\n",
      "LogisticRegression(C=0.1, class_weight=None, dual=False, fit_intercept=True,\n",
      "          intercept_scaling=1, max_iter=100, multi_class='ovr', n_jobs=1,\n",
      "          penalty='l2', random_state=None, solver='liblinear', tol=0.0001,\n",
      "          verbose=0, warm_start=False)\n",
      "Class number:  6\n",
      "Best C: {'C': 5}\n",
      "Best cross-validation auc_roc: 0.7471\n",
      "Best estimator:\n",
      "LogisticRegression(C=5, class_weight=None, dual=False, fit_intercept=True,\n",
      "          intercept_scaling=1, max_iter=100, multi_class='ovr', n_jobs=1,\n",
      "          penalty='l2', random_state=None, solver='liblinear', tol=0.0001,\n",
      "          verbose=0, warm_start=False)\n",
      "Class number:  10\n",
      "Best C: {'C': 0.5}\n",
      "Best cross-validation auc_roc: 0.9446\n",
      "Best estimator:\n",
      "LogisticRegression(C=0.5, class_weight=None, dual=False, fit_intercept=True,\n",
      "          intercept_scaling=1, max_iter=100, multi_class='ovr', n_jobs=1,\n",
      "          penalty='l2', random_state=None, solver='liblinear', tol=0.0001,\n",
      "          verbose=0, warm_start=False)\n",
      "Class number:  1\n",
      "Best C: {'C': 1}\n",
      "Best cross-validation auc_roc: 0.8252\n",
      "Best estimator:\n",
      "LogisticRegression(C=1, class_weight=None, dual=False, fit_intercept=True,\n",
      "          intercept_scaling=1, max_iter=100, multi_class='ovr', n_jobs=1,\n",
      "          penalty='l2', random_state=None, solver='liblinear', tol=0.0001,\n",
      "          verbose=0, warm_start=False)\n",
      "Class number:  3\n",
      "Best C: {'C': 1}\n",
      "Best cross-validation auc_roc: 0.9969\n",
      "Best estimator:\n",
      "LogisticRegression(C=1, class_weight=None, dual=False, fit_intercept=True,\n",
      "          intercept_scaling=1, max_iter=100, multi_class='ovr', n_jobs=1,\n",
      "          penalty='l2', random_state=None, solver='liblinear', tol=0.0001,\n",
      "          verbose=0, warm_start=False)\n",
      "Class number:  16\n",
      "Best C: {'C': 0.01}\n",
      "Best cross-validation auc_roc: 0.4829\n",
      "Best estimator:\n",
      "LogisticRegression(C=0.01, class_weight=None, dual=False, fit_intercept=True,\n",
      "          intercept_scaling=1, max_iter=100, multi_class='ovr', n_jobs=1,\n",
      "          penalty='l2', random_state=None, solver='liblinear', tol=0.0001,\n",
      "          verbose=0, warm_start=False)\n",
      "Class number:  2\n",
      "Best C: {'C': 0.5}\n",
      "Best cross-validation auc_roc: 0.8529\n",
      "Best estimator:\n",
      "LogisticRegression(C=0.5, class_weight=None, dual=False, fit_intercept=True,\n",
      "          intercept_scaling=1, max_iter=100, multi_class='ovr', n_jobs=1,\n",
      "          penalty='l2', random_state=None, solver='liblinear', tol=0.0001,\n",
      "          verbose=0, warm_start=False)\n",
      "Class number:  4\n",
      "Best C: {'C': 1}\n",
      "Best cross-validation auc_roc: 0.9728\n",
      "Best estimator:\n",
      "LogisticRegression(C=1, class_weight=None, dual=False, fit_intercept=True,\n",
      "          intercept_scaling=1, max_iter=100, multi_class='ovr', n_jobs=1,\n",
      "          penalty='l2', random_state=None, solver='liblinear', tol=0.0001,\n",
      "          verbose=0, warm_start=False)\n",
      "Class number:  5\n",
      "Best C: {'C': 1}\n",
      "Best cross-validation auc_roc: 0.7690\n",
      "Best estimator:\n",
      "LogisticRegression(C=1, class_weight=None, dual=False, fit_intercept=True,\n",
      "          intercept_scaling=1, max_iter=100, multi_class='ovr', n_jobs=1,\n",
      "          penalty='l2', random_state=None, solver='liblinear', tol=0.0001,\n",
      "          verbose=0, warm_start=False)\n"
     ]
    }
   ],
   "source": [
    "parameters = {\"C\":[0.001, 0.01, 0.1,0.5, 1,5]}\n",
    "probability_lg = pd.DataFrame()\n",
    "for n in y.unique():\n",
    "    print('Class number: ', n)\n",
    "    # create y for the class\n",
    "    y_train_loop = pd.Series([1 if i == n else 0 for i in y_train])\n",
    "    y_test_loop = pd.Series([1 if i == n else 0 for i in y_test])\n",
    "    # tuning parameters\n",
    "    grid_logit=GridSearchCV(LogisticRegression(), parameters , scoring = 'roc_auc', cv=3)\n",
    "    grid_logit.fit(Xtrain_pca, y_train_loop)\n",
    "    print(\"Best C: {}\".format(grid_logit.best_params_))\n",
    "    print(\"Best cross-validation auc_roc: {:.4f}\".format(grid_logit.best_score_))\n",
    "    print('Best estimator:\\n{}'.format(grid_logit.best_estimator_))\n",
    "    best_model = grid_logit.best_estimator_\n",
    "    best_model.fit(Xtrain_pca, y_train_loop)\n",
    "    # probability \n",
    "    probability_lg[\"Topic #%d \" % n] = best_model.predict_proba(Xtest_pca)[:,1]"
   ]
  },
  {
   "cell_type": "code",
   "execution_count": 436,
   "metadata": {
    "collapsed": true
   },
   "outputs": [],
   "source": [
    "probability_lg['ranking'] = probability_lg.idxmax(axis=1)\n",
    "probability_lg['true'] = list(y_test)\n",
    "probability_lg['ranking_2'] = probability_lg['ranking'].map(lambda x:pd.to_numeric(x.split('#')[-1].rstrip()))"
   ]
  },
  {
   "cell_type": "code",
   "execution_count": 437,
   "metadata": {},
   "outputs": [
    {
     "name": "stdout",
     "output_type": "stream",
     "text": [
      "             precision    recall  f1-score   support\n",
      "\n",
      "          1       0.71      0.93      0.81        61\n",
      "          2       0.33      0.09      0.14        11\n",
      "          3       0.80      1.00      0.89         4\n",
      "          4       0.75      0.75      0.75         4\n",
      "          5       1.00      0.33      0.50         3\n",
      "          6       0.50      0.17      0.25         6\n",
      "         10       0.75      0.50      0.60        12\n",
      "         16       0.22      0.33      0.27         6\n",
      "        100       1.00      0.17      0.29         6\n",
      "\n",
      "avg / total       0.67      0.67      0.63       113\n",
      "\n",
      "Accuracy: 0.6726\n"
     ]
    }
   ],
   "source": [
    "print(classification_report(probability_lg['true'], probability_lg['ranking_2']))\n",
    "print(\"Accuracy: {:.4f}\".format(accuracy_score(probability_lg['true'], probability_lg['ranking_2'])))"
   ]
  },
  {
   "cell_type": "code",
   "execution_count": null,
   "metadata": {
    "collapsed": true
   },
   "outputs": [],
   "source": []
  }
 ],
 "metadata": {
  "kernelspec": {
   "display_name": "Python 3",
   "language": "python",
   "name": "python3"
  },
  "language_info": {
   "codemirror_mode": {
    "name": "ipython",
    "version": 3
   },
   "file_extension": ".py",
   "mimetype": "text/x-python",
   "name": "python",
   "nbconvert_exporter": "python",
   "pygments_lexer": "ipython3",
   "version": "3.6.3"
  }
 },
 "nbformat": 4,
 "nbformat_minor": 2
}
